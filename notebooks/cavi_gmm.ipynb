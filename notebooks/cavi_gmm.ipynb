{
 "cells": [
  {
   "cell_type": "markdown",
   "metadata": {},
   "source": [
    "# Intro\n",
    "This notebook is intended to reduplicate the example of applying the Coordinate Ascent Varaitional Inference (CAVI) method on Gaussian Mixture Model (GMM), which is desribed in David M. Blei's 'Variational Inference: A Review for Statisticians'. You're encouraged to go through the paper and do the derivation of the mathematics on your own. Hope the notebook be a help of you.\n",
    "\n",
    "\n",
    "\n",
    "## Variational Inference\n",
    "Let $\\mathbf{x} = x_{1:n}$ be a set of observed variables and $\\mathbf{z} = z_{1:m}$ be a set of latent variables, with joint density $p(\\mathbf{z}, \\mathbf{x})$. The inference problem is to compute the conditional density of the latent variables given the observations, $p(\\mathbf{z}|\\mathbf{x})$. Variational inference is a widely-used method to approximate the conditional density of latent variables given observed variables. The key idea is to solve this problem with optimization, i.e., find the best candidate approximation $q(\\mathbf{z})$ within the given variational family $\\mathcal{L}$ that maximizing the evidence lower bound $ELBO(q)$.\n",
    "\n",
    "Variational inference is a general framework of approximating the conditional density rather one specific method, where a set of core compoments need to be instantialized to solve the optimization problem. These compoments are:\n",
    "- the closed form of joint density over latent variables and data, $p(\\mathbf{z}, \\mathbf{x})$;\n",
    "- the variational family $\\mathcal{L}$ that defines the form of $q(\\mathbf{z})$;\n",
    "- the specific algorithm used for the optimizating ELBO.\n",
    "\n",
    "This notebook is meant for the reproduction of the example of applying CAVI method on GMM, and is organized as follows to elaborate the above-methioned three compoments:\n",
    "- show the data generation process of GMM - $p(\\mathbf{z}, \\mathbf{x})$;\n",
    "- brief the mean-field variational family which defines the form of $q(\\mathbf{z})$;\n",
    "- show the form of elbo under the mean-field + GMM setting;\n",
    "- implement the CAVI method on solving the elbo-optimzaiton problem;\n",
    "- present the performace of cavi-gmm.\n",
    "\n",
    "\n",
    "## Preliminaries\n",
    "You shall have a basic comprehension on the following concepts:\n",
    "- the goal of varaitional inference\n",
    "- KL divergence and ELBO\n",
    "- the mean-field variational family\n",
    "- coordinate ascent method"
   ]
  },
  {
   "cell_type": "code",
   "execution_count": 1,
   "metadata": {},
   "outputs": [],
   "source": [
    "from zoo.core.configs import Config\n",
    "from collections import defaultdict\n",
    "import matplotlib.pyplot as plt\n",
    "import numpy as np"
   ]
  },
  {
   "cell_type": "code",
   "execution_count": 2,
   "metadata": {},
   "outputs": [],
   "source": [
    "# set up the experiment configuration\n",
    "config = Config(num_cluster=4, num_data=10000, prior_var=16, max_step=25)"
   ]
  },
  {
   "cell_type": "markdown",
   "metadata": {},
   "source": [
    "# Gaussian Mixture Model\n",
    "At very first, we define GMM's generative process of data as described in Section 2.1. \n",
    "\n",
    "\n",
    "There are $K$ mixture components, corresponding to $K$ Gaussian distributions with means $\\mathbf{\\mu} = \\{\\mu_1, \\mu_2, ... \\mu_K\\}$. The mean parameters are drawn independently from a common prior $p(\\mu_k)$, which assumed to be a Gaussian $\\mathcal{N}(0, \\sigma^2)$; the prior variance is a hyperparameter. \n",
    "\n",
    "To generate an observation $x_i$, a cluster assignment $c_i$ is first chosen. Then $xi$ is drawn from the corresponding Gaussian $\\mathcal{N}(c_i^T\\mathbf{u}, 1)$. $c_i$ is $K$-dimensional one-hot vector, indicating which latent cluster $x_i$ comes from and is drawn from a categorical distribution over $\\{1...K\\}$. \n",
    "\n",
    "<center>\n",
    "<img src=\"imgs/cavi_gmm/generative_process.jpg\" width=\"60%\">\n",
    "</center>"
   ]
  },
  {
   "cell_type": "code",
   "execution_count": 3,
   "metadata": {},
   "outputs": [],
   "source": [
    "def get_data(K: int, N: int, var: float):\n",
    "    \"\"\"\n",
    "    generate data according to the generative process defined in equations (4), (5), (6)\n",
    "    \n",
    "    :param K: number of clusters\n",
    "    :param N: number of data points\n",
    "    :param var: global hyper-parameter, the variance of the prior Gaussian distribution of \\mu_k,\n",
    "            i.e. the square term in `\\mu_k ~ N(0, \\sigma^2)`\n",
    "\n",
    "    :return:\n",
    "        x - dataset [N, ]\n",
    "        cluster_center - global latent variable [K, ]\n",
    "        cluster_assignment - local latent variable, cluster-index [N, ]\n",
    "    \"\"\"\n",
    "    cluster_center = np.random.randn(K) * np.sqrt(var)\n",
    "    cluster_assignment = np.random.randint(0, K, N)\n",
    "    x = np.random.randn(N) + cluster_center[cluster_assignment]\n",
    "\n",
    "    return x, cluster_center, cluster_assignment"
   ]
  },
  {
   "cell_type": "markdown",
   "metadata": {},
   "source": [
    "# Mean-Field Variational Family\n",
    "\n",
    "The mean-field variational family is used here to formalized the posterior density approximator:\n",
    "$$\n",
    "q(\\mathbf{\\mu}, \\mathbf{c}) = \\prod_k q(\\mu_k;m_k, s^2_k) \\prod_i q(c_i;\\phi_i).\n",
    "$$\n",
    "\n",
    "The factor $q(\\mu_k;m_k, s^2_k)$ is a Gaussian distribution on the $k$-th mixture component’s mean parameter; its mean is $m_k$ and its variance is $s^2_k$. The factor $q(c_i ;\\phi)$ is a distribution on the $x_i$’s mixture assignment; its assignment probabilities are a $K$-dimenstional vector $\\phi_i$.\n",
    "\n",
    "Here we have asserted parametric forms for these factors: \n",
    "- the mixture components are Gaussian with variational parameters (mean and variance) specific to the $k$-th cluster; \n",
    "- the cluster assignments are categorical with variational parameters (cluster probabilities) specific to the $i$-th data point. \n",
    "\n",
    "A class `Approximator` here is used to cover:\n",
    "- the defination of variational parameters\n",
    "- the CAVI iteration logic (will be explained later)  \n",
    "- the computaion of elbo-value"
   ]
  },
  {
   "cell_type": "code",
   "execution_count": 4,
   "metadata": {},
   "outputs": [],
   "source": [
    "class Approximator(object):\n",
    "    def __init__(self, K, N, var):\n",
    "        # variational parameters: m - [K,], s2 - [K,], phi - [N, K]\n",
    "        # var - global hyper parameter\n",
    "        self.m, self.s2 = np.random.randn(K), np.random.random(K)\n",
    "        self.phi = np.random.random(size=(N, K))\n",
    "        self.phi /= np.sum(self.phi, axis=1, keepdims=True)\n",
    "        self.var = var\n",
    "\n",
    "    def coord_ascent_update(self, x):\n",
    "        # apply CAVI update on the variational parameters\n",
    "        # equation 34\n",
    "        self.s2 = 1 / (np.sum(self.phi, axis=0) + 1 / self.var)\n",
    "        self.m = np.sum(self.phi * np.expand_dims(x, 1), axis=0) / (np.sum(self.phi, axis=0) + 1 / self.var)\n",
    "\n",
    "        # equation 26\n",
    "        self.phi = np.exp(np.outer(x, self.m) - 1 / 2 * np.expand_dims(self.m ** 2 + self.s2, 0))\n",
    "        # normalize phi\n",
    "        self.phi /= np.sum(self.phi, axis=1, keepdims=True)\n",
    "\n",
    "    def elbo(self, x):\n",
    "        return compute_elbo(self.m,\n",
    "                            self.s2,\n",
    "                            self.phi,\n",
    "                            self.var,\n",
    "                            x\n",
    "                            )"
   ]
  },
  {
   "cell_type": "markdown",
   "metadata": {},
   "source": [
    "# ELBO \n",
    "\n",
    "Next, we implement the computation of ELBO under the mean-field + GMM setting, as described at Section 3.\n",
    "<center>\n",
    "<img src=\"imgs/cavi_gmm/elbo.jpg\" width=\"60%\">\n",
    "</center>"
   ]
  },
  {
   "cell_type": "code",
   "execution_count": 5,
   "metadata": {},
   "outputs": [],
   "source": [
    "def compute_elbo(m: np.ndarray, s2: np.ndarray, phi: np.ndarray, var: float, x: np.ndarray) -> float:\n",
    "    \"\"\"\n",
    "    compute ELBO value according to equation (21) in the paper\n",
    "    :param m: [K,]\n",
    "    :param s2: [K,]\n",
    "    :param phi: [N, K]\n",
    "    :param var: variance of the prior prob of mu_k, shape: [2，], [var_x, var_y]\n",
    "    :param x:  [N,]\n",
    "    :return:\n",
    "    \"\"\"\n",
    "    K, N = len(m), len(x)\n",
    "    ret = 0.\n",
    "    # \\sum_k E[log p(\\mu_k); m_k, s_k^2]\n",
    "    ret += - 1 / 2 * np.sum(np.log(2 * np.pi * var) + (s2 + m ** 2) / var)\n",
    "    \n",
    "    # \\sum_i E[log p(c_i); phi] --- is a const, can be removed\n",
    "    ret += - np.log(K) * N\n",
    "    \n",
    "    # \\sum_i E[log p(x_i|c_i, \\mu_i); \\phi_i, m, s^2]\n",
    "    ret += - 1 / 2 * np.sum(\n",
    "        phi * (np.log(2 * np.pi) +\n",
    "               np.expand_dims(x ** 2, 1) - 2 * np.expand_dims(x, 1) * np.expand_dims(m, 0) +\n",
    "               np.expand_dims(m ** 2 + s2, 0)))\n",
    "    \n",
    "    # - \\sum_i E[log q(c_i; phi)]\n",
    "    # we set log 0 as 0 to avoid generating Nan\n",
    "    ret -= np.sum(phi * np.where(phi > 0, np.log(phi), 0))\n",
    "    \n",
    "    # - \\sum_k E[log q(\\mu_k; m_k, s_k^2)]\n",
    "    ret -= - 1 / 2 * np.sum(np.log(2 * np.pi * s2) + 1)\n",
    "    return ret"
   ]
  },
  {
   "cell_type": "markdown",
   "metadata": {},
   "source": [
    "# CAVI algorithm\n",
    "Using the ELBO and the mean-field family, we have cast approximate conditional inference as an optimization problem. \n",
    "Now we use coordinate ascent variational inference (CAVI) to solve it. CAVI iteratively optimizes each factor of the mean-field variational density, while holding the others fixed. It climbs the ELBO to a local optimum.\n",
    "<center>\n",
    "<img src=\"imgs/cavi_gmm/cavi_gmm.jpg\" width=\"70%\">\n",
    "</center>\n",
    "\n",
    "The parameter update steps within the while loop are defiend in `Approximator.coord_ascent_update` method."
   ]
  },
  {
   "cell_type": "code",
   "execution_count": 6,
   "metadata": {},
   "outputs": [],
   "source": [
    "def exp(config, x):\n",
    "    \"\"\"\n",
    "    run CAVI on GMM model on the given one-dimensional dataset x\n",
    "    :param config: experiment configuration\n",
    "    :param x: dataset\n",
    "    \"\"\"\n",
    "    model = Approximator(config.num_cluster, config.num_data, config.prior_var)\n",
    "    exp_result = defaultdict(list)\n",
    "    \n",
    "    for _ in range(config.max_step):\n",
    "        # apply update\n",
    "        model.coord_ascent_update(x)\n",
    "        \n",
    "        # record model params and elbo value\n",
    "        exp_result['m'].append(model.m)\n",
    "        exp_result['elbo'].append(model.elbo(x))\n",
    "\n",
    "    return exp_result"
   ]
  },
  {
   "cell_type": "markdown",
   "metadata": {},
   "source": [
    "# Experiment\n",
    "## The convergence of CAVI\n",
    "We repeated running CAVI algorithm with the same dataset but different initializations of variational factors, and plotted the elbo-value curves of each signle run. Algorithm converges after 5-6 iterations."
   ]
  },
  {
   "cell_type": "code",
   "execution_count": 7,
   "metadata": {},
   "outputs": [
    {
     "data": {
      "text/plain": [
       "Text(0.5, 0, 'iter')"
      ]
     },
     "execution_count": 7,
     "metadata": {},
     "output_type": "execute_result"
    },
    {
     "data": {
      "image/png": "[encoded data removed]",
      "text/plain": [
       "<Figure size 432x288 with 1 Axes>"
      ]
     },
     "metadata": {
      "needs_background": "light"
     },
     "output_type": "display_data"
    }
   ],
   "source": [
    "# generate data\n",
    "x, cluster_center, cluster_assignment = get_data(config.num_cluster, config.num_data, config.prior_var)\n",
    "\n",
    "# repeat experiment on different parameter initialization 10 times\n",
    "exp_results = [exp(config, x) for _ in range(10)]\n",
    "\n",
    "# plot result\n",
    "for result in exp_results:\n",
    "    plt.plot(result['elbo'])\n",
    "\n",
    "plt.ylabel('elbo-value')\n",
    "plt.xlabel('iter')"
   ]
  },
  {
   "cell_type": "markdown",
   "metadata": {},
   "source": [
    "# The effectiveness of CAVI on GMM\n",
    "\n",
    "We showed how the estimated cluster centers changed during the itertaive process. The black dashed line denotes the estimated cluster centers of GMM by CAVI.\n",
    "\n",
    "We can see that:\n",
    "- at first a few iterations, the estimated cluster centers are just random guess, and cannot be distinguished easily.\n",
    "- after convergence, the centers of each cluster is located precisely."
   ]
  },
  {
   "cell_type": "code",
   "execution_count": 8,
   "metadata": {},
   "outputs": [
    {
     "data": {
      "image/png": "[encoded data removed]",
      "text/plain": [
       "<Figure size 720x288 with 2 Axes>"
      ]
     },
     "metadata": {
      "needs_background": "light"
     },
     "output_type": "display_data"
    }
   ],
   "source": [
    "fig, ax = plt.subplots(ncols=2, figsize=(10, 4))\n",
    "\n",
    "for k in range(config.num_cluster):\n",
    "    points = x[cluster_assignment == k]\n",
    "    *_, patch = ax[0].hist(points, alpha=0.9, density=True)\n",
    "    ax[0].set_ylim(0, 0.5)\n",
    "    \n",
    "    ax[0].vlines(exp_results[0]['m'][2], 0, 1, color='k', linestyles='-.')\n",
    "    ax[0].set_title('iter-2')\n",
    "\n",
    "    \n",
    "for k in range(config.num_cluster):\n",
    "    points = x[cluster_assignment == k]\n",
    "    *_, patch = ax[1].hist(points, alpha=0.9, density=True)\n",
    "    ax[1].set_ylim(0, 0.5)\n",
    "    \n",
    "    ax[1].vlines(exp_results[0]['m'][config.max_step - 1], 0, 1, color='k', linestyles='-.')\n",
    "    ax[1].set_title(f'iter-{config.max_step - 1}')"
   ]
  }
 ],
 "metadata": {
  "kernelspec": {
   "display_name": "Python 3",
   "language": "python",
   "name": "python3"
  },
  "language_info": {
   "codemirror_mode": {
    "name": "ipython",
    "version": 3
   },
   "file_extension": ".py",
   "mimetype": "text/x-python",
   "name": "python",
   "nbconvert_exporter": "python",
   "pygments_lexer": "ipython3",
   "version": "3.7.4"
  }
 },
 "nbformat": 4,
 "nbformat_minor": 2
}
