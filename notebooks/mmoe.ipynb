{
 "cells": [
  {
   "cell_type": "code",
   "execution_count": 1,
   "metadata": {},
   "outputs": [],
   "source": [
    "import matplotlib.pyplot as plt\n",
    "from zoo.core import Config\n",
    "from zoo.mmoe import Exp\n",
    "import pandas as pd\n",
    "import os\n",
    "os.environ['KMP_DUPLICATE_LIB_OK'] = 'True'"
   ]
  },
  {
   "cell_type": "code",
   "execution_count": 2,
   "metadata": {},
   "outputs": [],
   "source": [
    "conf = {\n",
    "    \"train_data_size\": 1000,\n",
    "    \"dev_data_size\": 100,\n",
    "    \"num_sin_params\": 4,\n",
    "    \"model\": \"moe\",\n",
    "    \"model_arch.dim_in\": 100,\n",
    "    \"model_arch.dim_hidden_bottom\": 16,\n",
    "    \"model_arch.dim_hidden_tower\": 8,\n",
    "    \"model_arch.num_expert\": 8,\n",
    "    \"model_arch.num_task\": 2,\n",
    "    \"num_epoch\": 20,\n",
    "    \"batch_size\": 32,\n",
    "    \"lr\": 1e-4,\n",
    "    \"num_process\": 4,\n",
    "    \"task_corr\": 0.1,\n",
    "    \"validate_freq\": 100\n",
    "}"
   ]
  },
  {
   "cell_type": "markdown",
   "metadata": {},
   "source": [
    "# Performance of the Shared-Bottom model on synthetic data with different task correlation"
   ]
  },
  {
   "cell_type": "code",
   "execution_count": 3,
   "metadata": {},
   "outputs": [],
   "source": [
    "def process_result(exp):\n",
    "    df_source = []\n",
    "    for result in exp.exp_results:\n",
    "        df_source.append(dict(result))\n",
    "    # process mean value from each single run\n",
    "    return pd.DataFrame(df_source).mean()"
   ]
  },
  {
   "cell_type": "code",
   "execution_count": 4,
   "metadata": {},
   "outputs": [
    {
     "name": "stdout",
     "output_type": "stream",
     "text": [
      "{'train_data_size': 1000, 'dev_data_size': 100, 'num_sin_params': 4, 'model': 'shared_bottom', 'model_arch': {'dim_in': 100, 'dim_hidden_bottom': 113, 'dim_hidden_tower': 8, 'num_expert': 8, 'num_task': 2}, 'num_epoch': 20, 'batch_size': 32, 'lr': 0.0001, 'num_process': 4, 'task_corr': 0.1, 'validate_freq': 100}\n"
     ]
    }
   ],
   "source": [
    "config = Config(**conf)\n",
    "config.model = 'shared_bottom'\n",
    "config.model_arch.dim_hidden_bottom = 113\n",
    "print(config)"
   ]
  },
  {
   "cell_type": "code",
   "execution_count": 5,
   "metadata": {},
   "outputs": [
    {
     "data": {
      "application/vnd.jupyter.widget-view+json": {
       "model_id": "3ab9a143562740aab2f3029d5fd32af7",
       "version_major": 2,
       "version_minor": 0
      },
      "text/plain": [
       "  0%|          | 0/10 [00:00<?, ?it/s]"
      ]
     },
     "metadata": {},
     "output_type": "display_data"
    },
    {
     "name": "stdout",
     "output_type": "stream",
     "text": [
      "VanillaSharedBottomRegressor, with 13124 parameters\n"
     ]
    },
    {
     "data": {
      "application/vnd.jupyter.widget-view+json": {
       "model_id": "f82253ccd0e843c486d3f2470cdd7269",
       "version_major": 2,
       "version_minor": 0
      },
      "text/plain": [
       "  0%|          | 0/10 [00:00<?, ?it/s]"
      ]
     },
     "metadata": {},
     "output_type": "display_data"
    },
    {
     "name": "stdout",
     "output_type": "stream",
     "text": [
      "VanillaSharedBottomRegressor, with 13124 parameters\n"
     ]
    },
    {
     "data": {
      "application/vnd.jupyter.widget-view+json": {
       "model_id": "ac057e2b69ba4269a1d701b3e3cc1aed",
       "version_major": 2,
       "version_minor": 0
      },
      "text/plain": [
       "  0%|          | 0/10 [00:00<?, ?it/s]"
      ]
     },
     "metadata": {},
     "output_type": "display_data"
    },
    {
     "name": "stdout",
     "output_type": "stream",
     "text": [
      "VanillaSharedBottomRegressor, with 13124 parameters\n"
     ]
    },
    {
     "data": {
      "text/plain": [
       "<matplotlib.legend.Legend at 0x7fbe951a5450>"
      ]
     },
     "execution_count": 5,
     "metadata": {},
     "output_type": "execute_result"
    },
    {
     "data": {
      "image/png": "[encoded data removed]",
      "text/plain": [
       "<Figure size 432x288 with 1 Axes>"
      ]
     },
     "metadata": {
      "needs_background": "light"
     },
     "output_type": "display_data"
    }
   ],
   "source": [
    "shared_bottom_stats = {}\n",
    "\n",
    "for task_corr in [0.5, 0.9, 1.0]:\n",
    "    config.task_corr = task_corr\n",
    "    exp = Exp(config, repeat_num=10, seed=1)\n",
    "    exp.run()\n",
    "    series = process_result(exp)\n",
    "    series.plot(label=f\"corr={task_corr}\")\n",
    "    \n",
    "    shared_bottom_stats[task_corr] = series\n",
    "\n",
    "plt.ylim(0, 1.0)\n",
    "plt.grid()\n",
    "plt.legend()"
   ]
  },
  {
   "cell_type": "markdown",
   "metadata": {},
   "source": [
    "# Performance on MMOE"
   ]
  },
  {
   "cell_type": "code",
   "execution_count": 6,
   "metadata": {},
   "outputs": [],
   "source": [
    "config = Config(**conf)\n",
    "config.model = 'mmoe'\n",
    "config.model_arch.dim_hidden_bottom = 16"
   ]
  },
  {
   "cell_type": "code",
   "execution_count": 7,
   "metadata": {},
   "outputs": [
    {
     "data": {
      "application/vnd.jupyter.widget-view+json": {
       "model_id": "5681dc8b302a4c18b52768acf969b167",
       "version_major": 2,
       "version_minor": 0
      },
      "text/plain": [
       "  0%|          | 0/10 [00:00<?, ?it/s]"
      ]
     },
     "metadata": {},
     "output_type": "display_data"
    },
    {
     "name": "stdout",
     "output_type": "stream",
     "text": [
      "MMoERegressor, with 14672 parameters\n"
     ]
    },
    {
     "data": {
      "application/vnd.jupyter.widget-view+json": {
       "model_id": "222f0d387d434cfb85ea5dcc8f530518",
       "version_major": 2,
       "version_minor": 0
      },
      "text/plain": [
       "  0%|          | 0/10 [00:00<?, ?it/s]"
      ]
     },
     "metadata": {},
     "output_type": "display_data"
    },
    {
     "name": "stdout",
     "output_type": "stream",
     "text": [
      "MMoERegressor, with 14672 parameters\n"
     ]
    },
    {
     "data": {
      "application/vnd.jupyter.widget-view+json": {
       "model_id": "5bbb445888304d5fabeeefe36bfacffb",
       "version_major": 2,
       "version_minor": 0
      },
      "text/plain": [
       "  0%|          | 0/10 [00:00<?, ?it/s]"
      ]
     },
     "metadata": {},
     "output_type": "display_data"
    },
    {
     "name": "stdout",
     "output_type": "stream",
     "text": [
      "MMoERegressor, with 14672 parameters\n"
     ]
    }
   ],
   "source": [
    "mmoe_stats = {}\n",
    "\n",
    "for task_corr in [0.5, 0.9, 1.0]:\n",
    "    config.task_corr = task_corr\n",
    "    exp = Exp(config, repeat_num=10, seed=1)\n",
    "    exp.run()\n",
    "    series = process_result(exp)\n",
    "    mmoe_stats[task_corr] = series"
   ]
  },
  {
   "cell_type": "markdown",
   "metadata": {},
   "source": [
    "# Performance on MOE"
   ]
  },
  {
   "cell_type": "code",
   "execution_count": 8,
   "metadata": {},
   "outputs": [
    {
     "name": "stdout",
     "output_type": "stream",
     "text": [
      "{'train_data_size': 1000, 'dev_data_size': 100, 'num_sin_params': 4, 'model': 'moe', 'model_arch': {'dim_in': 100, 'dim_hidden_bottom': 16, 'dim_hidden_tower': 8, 'num_expert': 8, 'num_task': 2}, 'num_epoch': 20, 'batch_size': 32, 'lr': 0.0001, 'num_process': 4, 'task_corr': 0.1, 'validate_freq': 100}\n"
     ]
    }
   ],
   "source": [
    "config = Config(**conf)\n",
    "config.model = 'moe'\n",
    "print(config)"
   ]
  },
  {
   "cell_type": "code",
   "execution_count": 9,
   "metadata": {},
   "outputs": [
    {
     "data": {
      "application/vnd.jupyter.widget-view+json": {
       "model_id": "a3f48966754c4d989f162bd14c6fc785",
       "version_major": 2,
       "version_minor": 0
      },
      "text/plain": [
       "  0%|          | 0/10 [00:00<?, ?it/s]"
      ]
     },
     "metadata": {},
     "output_type": "display_data"
    },
    {
     "name": "stdout",
     "output_type": "stream",
     "text": [
      "MoERegressor, with 13872 parameters\n"
     ]
    },
    {
     "data": {
      "application/vnd.jupyter.widget-view+json": {
       "model_id": "40d6ff535a2f43debb3d740d9f31ce80",
       "version_major": 2,
       "version_minor": 0
      },
      "text/plain": [
       "  0%|          | 0/10 [00:00<?, ?it/s]"
      ]
     },
     "metadata": {},
     "output_type": "display_data"
    },
    {
     "name": "stdout",
     "output_type": "stream",
     "text": [
      "MoERegressor, with 13872 parameters\n"
     ]
    },
    {
     "data": {
      "application/vnd.jupyter.widget-view+json": {
       "model_id": "9422d1a05b0c43d79f79b089edbdefb3",
       "version_major": 2,
       "version_minor": 0
      },
      "text/plain": [
       "  0%|          | 0/10 [00:00<?, ?it/s]"
      ]
     },
     "metadata": {},
     "output_type": "display_data"
    },
    {
     "name": "stdout",
     "output_type": "stream",
     "text": [
      "MoERegressor, with 13872 parameters\n"
     ]
    }
   ],
   "source": [
    "moe_stats = {}\n",
    "\n",
    "for task_corr in [0.5, 0.9, 1.0]:\n",
    "    config.task_corr = task_corr\n",
    "    exp = Exp(config, repeat_num=10, seed=1)\n",
    "    exp.run()\n",
    "    series = process_result(exp)\n",
    "    moe_stats[task_corr] = series"
   ]
  },
  {
   "cell_type": "markdown",
   "metadata": {},
   "source": [
    "# Performance of MMoE, MoE, SharedBottom on synthetic data with di erent correlations"
   ]
  },
  {
   "cell_type": "code",
   "execution_count": 10,
   "metadata": {},
   "outputs": [
    {
     "data": {
      "text/plain": [
       "(0, 0.5)"
      ]
     },
     "execution_count": 10,
     "metadata": {},
     "output_type": "execute_result"
    },
    {
     "data": {
      "image/png": "[encoded data removed]",
      "text/plain": [
       "<Figure size 1008x288 with 3 Axes>"
      ]
     },
     "metadata": {
      "needs_background": "light"
     },
     "output_type": "display_data"
    }
   ],
   "source": [
    "f, ax = plt.subplots(1, 3, figsize=(14, 4), sharey=True)\n",
    "for i, task_corr in enumerate([0.5, 0.9, 1.0]):\n",
    "    ax[i].plot(shared_bottom_stats[task_corr], label='shared_bottom')\n",
    "    ax[i].plot(moe_stats[task_corr], label='moe')\n",
    "    ax[i].plot(mmoe_stats[task_corr], label='mmoe')\n",
    "    ax[i].set_title(f\"corr={task_corr}\")\n",
    "    ax[i].grid()\n",
    "\n",
    "ax[-1].legend()\n",
    "ax[-1].set_ylim(0, 0.5)"
   ]
  }
 ],
 "metadata": {
  "kernelspec": {
   "display_name": "Python 3",
   "language": "python",
   "name": "python3"
  },
  "language_info": {
   "codemirror_mode": {
    "name": "ipython",
    "version": 3
   },
   "file_extension": ".py",
   "mimetype": "text/x-python",
   "name": "python",
   "nbconvert_exporter": "python",
   "pygments_lexer": "ipython3",
   "version": "3.7.4"
  }
 },
 "nbformat": 4,
 "nbformat_minor": 4
}
