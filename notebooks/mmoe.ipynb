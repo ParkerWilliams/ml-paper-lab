{
 "cells": [
  {
   "cell_type": "code",
   "execution_count": 1,
   "metadata": {},
   "outputs": [],
   "source": [
    "import matplotlib.pyplot as plt\n",
    "from zoo.mmoe import Exp\n",
    "import os\n",
    "os.environ['KMP_DUPLICATE_LIB_OK'] = 'True'"
   ]
  },
  {
   "cell_type": "code",
   "execution_count": 8,
   "metadata": {},
   "outputs": [],
   "source": [
    "conf = {\n",
    "    \"train_data_size\": 1000,\n",
    "    \"dev_data_size\": 500,\n",
    "    \"num_sin_params\": 4,\n",
    "    \"model\": \"baseline\",\n",
    "    \"model_arch.dim_in\": 100,\n",
    "    \"model_arch.dim_hidden_bottom\": 16,\n",
    "    \"model_arch.dim_hidden_tower\": 8,\n",
    "#     \"model_arch.num_expert\": 8,\n",
    "    \"model_arch.num_task\": 2,\n",
    "    \"num_epoch\": 3,\n",
    "    \"batch_size\": 32,\n",
    "    \"lr\": 0.0005,\n",
    "    \"num_process\": 4,\n",
    "    \"task_corr\": 0.1\n",
    "}"
   ]
  },
  {
   "cell_type": "code",
   "execution_count": 9,
   "metadata": {},
   "outputs": [
    {
     "data": {
      "application/vnd.jupyter.widget-view+json": {
       "model_id": "46de4d25770d451495294e334048e1d9",
       "version_major": 2,
       "version_minor": 0
      },
      "text/plain": [
       "  0%|          | 0/2 [00:00<?, ?it/s]"
      ]
     },
     "metadata": {},
     "output_type": "display_data"
    },
    {
     "name": "stdout",
     "output_type": "stream",
     "text": [
      "VanillaSharedBottomRegressor, with 1906 parameters\n",
      "defaultdict(<class 'list'>, {'validation_loss': {'log_epoch_fields': ['{last:.4f}'], 'last': tensor(3.0598)}})\n",
      "VanillaSharedBottomRegressor, with 1906 parameters\n",
      "defaultdict(<class 'list'>, {'validation_loss': {'log_epoch_fields': ['{last:.4f}'], 'last': tensor(6.9574)}})\n"
     ]
    }
   ],
   "source": [
    "exp = Exp(conf, 2, seed=1)\n",
    "exp.run()"
   ]
  },
  {
   "cell_type": "code",
   "execution_count": null,
   "metadata": {},
   "outputs": [],
   "source": [
    "num_params = CONF.DIM_INPUT * CONF.DIM_HIDDEN_BOTTOM * CONF.NUM_EXPERT + \\\n",
    "             CONF.DIM_HIDDEN_BOTTOM * CONF.DIM_HIDDEN_TOWER * CONF.NUM_TASK\n",
    "\n",
    "dim_hidden_bottom = int(num_params / (CONF.DIM_INPUT + CONF.NUM_TASK * CONF.DIM_HIDDEN_TOWER))\n",
    "\n",
    "model = VanillaSharedBottomRegressor(CONF.NUM_TASK, CONF.DIM_INPUT, dim_hidden_bottom, CONF.DIM_HIDDEN_TOWER)\n",
    "\n",
    "base_df_corr_0_5 = exp_mp(model, task_corr=0.5, N=5)\n",
    "base_df_corr_0_9 = exp_mp(model, task_corr=0.9, N=5)\n",
    "base_df_corr_1_0 = exp_mp(model, task_corr=1.0, N=5)"
   ]
  },
  {
   "cell_type": "code",
   "execution_count": null,
   "metadata": {},
   "outputs": [],
   "source": [
    "base_df_corr_0_5.mean().plot(label='0.5')\n",
    "base_df_corr_0_9.mean().plot(label='0.9')\n",
    "base_df_corr_1_0.mean().plot(label='1.0')\n",
    "plt.ylim(0, 0.5)\n",
    "plt.legend()"
   ]
  },
  {
   "cell_type": "code",
   "execution_count": null,
   "metadata": {},
   "outputs": [],
   "source": [
    "model = MMoERegressor(CONF.NUM_EXPERT, CONF.NUM_TASK, CONF.DIM_INPUT, CONF.DIM_HIDDEN_BOTTOM, CONF.DIM_HIDDEN_TOWER)\n",
    "\n",
    "mmoe_df_corr_0_5 = exp_mp(model, task_corr=0.5, N=5)\n",
    "# mmoe_df_corr_0_9 = exp_mp(model, task_corr=0.9, N=10)\n",
    "# mmoe_df_corr_1_0 = exp_mp(model, task_corr=1.0, N=10)"
   ]
  },
  {
   "cell_type": "code",
   "execution_count": null,
   "metadata": {},
   "outputs": [],
   "source": [
    "mmoe_df_corr_0_5.mean().plot()\n",
    "plt.ylim(0, 0.5)\n",
    "plt.legend()"
   ]
  },
  {
   "cell_type": "code",
   "execution_count": null,
   "metadata": {},
   "outputs": [],
   "source": [
    "model = MoERegressor(CONF.NUM_EXPERT, CONF.NUM_TASK, CONF.DIM_INPUT, CONF.DIM_HIDDEN_BOTTOM, CONF.DIM_HIDDEN_TOWER)\n",
    "\n",
    "omoe_corr_0_5 = exp_mp(model, task_corr=0.5, N=5)\n",
    "# omoe_corr_0_9 = exp_mp(model, task_corr=0.9, N=10)\n",
    "# omoe_corr_1_0 = exp_mp(model, task_corr=1.0, N=10)"
   ]
  }
 ],
 "metadata": {
  "kernelspec": {
   "display_name": "Python 3",
   "language": "python",
   "name": "python3"
  },
  "language_info": {
   "codemirror_mode": {
    "name": "ipython",
    "version": 3
   },
   "file_extension": ".py",
   "mimetype": "text/x-python",
   "name": "python",
   "nbconvert_exporter": "python",
   "pygments_lexer": "ipython3",
   "version": "3.7.4"
  }
 },
 "nbformat": 4,
 "nbformat_minor": 4
}
